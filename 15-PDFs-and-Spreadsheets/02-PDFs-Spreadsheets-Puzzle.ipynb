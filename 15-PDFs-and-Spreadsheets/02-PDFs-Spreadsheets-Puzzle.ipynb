{
 "cells": [
  {
   "cell_type": "markdown",
   "metadata": {},
   "source": [
    "___\n",
    "\n",
    "<a href='https://www.udemy.com/user/joseportilla/'><img src='../Pierian_Data_Logo.png'/></a>\n",
    "___\n",
    "<center><em>Content Copyright by Pierian Data</em></center>"
   ]
  },
  {
   "cell_type": "markdown",
   "metadata": {},
   "source": [
    "# PDFs and Spreadsheets Puzzle Exercise\n",
    "\n",
    "Let's test your skills, the files needed for this puzzle exercise\n",
    "\n",
    "You will need to work with two files for this exercise and solve the following tasks:\n",
    "\n",
    "* Task One: Use Python to extract the Google Drive link from the .csv file. (Hint: Its along the diagonal from top left to bottom right).\n",
    "* Task Two: Download the PDF from the Google Drive link (we already downloaded it for you just in case you can't download from Google Drive) and find the phone number that is in the document. Note: There are different ways of formatting a phone number!"
   ]
  },
  {
   "cell_type": "markdown",
   "metadata": {},
   "source": [
    "## Task One: Grab the Google Drive Link from .csv File"
   ]
  },
  {
   "cell_type": "code",
   "execution_count": null,
   "metadata": {
    "collapsed": true
   },
   "outputs": [],
   "source": [
    "import csv\n",
    "\n",
    "data = open('find_the_link.csv',encoding='utf-8')\n",
    "\n",
    "csv_data = csv.reader(data)\n",
    "\n",
    "data_lines = list(csv_data)\n",
    "\n",
    "link = ''\n",
    "\n",
    "_ = 1\n",
    "\n",
    "for d in len(data_lines[_][_]):\n",
    "    link+str(d)\n",
    "    _+=1\n"
   ]
  },
  {
   "cell_type": "code",
   "execution_count": 14,
   "metadata": {},
   "outputs": [
    {
     "data": {
      "text/plain": [
       "'https://drive.google.com/open?id=1G6SEgg018UB4_4xsAJJ5TdzrhmXipr4Q'"
      ]
     },
     "execution_count": 14,
     "metadata": {},
     "output_type": "execute_result"
    }
   ],
   "source": [
    "# THe correct result is shown below, if you can't download from Google Drive, \n",
    "# we added the PDF file to the Exercise_Files folder already"
   ]
  },
  {
   "cell_type": "markdown",
   "metadata": {},
   "source": [
    "## Task Two: Download the PDF from the Google Drive link and find the phone number that is in the document. "
   ]
  },
  {
   "cell_type": "code",
   "execution_count": 1,
   "metadata": {
    "collapsed": true
   },
   "outputs": [],
   "source": [
    "# You should get this phone number\n",
    "# 505 503 4455\n",
    "import re\n",
    "\n",
    "file = open('Find_the_Phone_Number.pdf','rb')\n",
    "\n",
    "file_reader = PyPDF2.PdfFileReader(file)\n",
    "\n",
    "n = 0\n",
    "\n",
    "result = ''\n",
    "\n",
    "for page in file_reader.getPage(n):\n",
    "\n",
    "    page_text = page.extractText()\n",
    "\n",
    "    pattern = r'\\d{3}-\\d{3}-\\d{4}'\n",
    "\n",
    "    search = re.search(pattern,page_text)\n",
    "\n",
    "    if search != '':\n",
    "        result+=str(search)\n",
    "        print result\n",
    "        \n",
    "    else:\n",
    "        continue\n",
    "\n",
    "\n"
   ]
  }
 ],
 "metadata": {
  "anaconda-cloud": {},
  "kernelspec": {
   "display_name": "Python 3",
   "language": "python",
   "name": "python3"
  },
  "language_info": {
   "codemirror_mode": {
    "name": "ipython",
    "version": 3
   },
   "file_extension": ".py",
   "mimetype": "text/x-python",
   "name": "python",
   "nbconvert_exporter": "python",
   "pygments_lexer": "ipython3",
   "version": "3.6.6"
  }
 },
 "nbformat": 4,
 "nbformat_minor": 2
}
